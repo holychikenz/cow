{
 "cells": [
  {
   "cell_type": "code",
   "execution_count": 1,
   "id": "94129654-bbe7-4bd3-a14a-a22013b7bdb4",
   "metadata": {},
   "outputs": [],
   "source": [
    "using PyPlot\n",
    "using Random\n",
    "using LsqFit\n",
    "using FStrings\n",
    "using DataFrames"
   ]
  },
  {
   "cell_type": "code",
   "execution_count": 2,
   "id": "07391dab-b97e-4174-a68e-77470f4c971c",
   "metadata": {},
   "outputs": [
    {
     "data": {
      "text/plain": [
       "TimeToTargetProt (generic function with 1 method)"
      ]
     },
     "execution_count": 2,
     "metadata": {},
     "output_type": "execute_result"
    }
   ],
   "source": [
    "P = zeros(50) .+ 0.30\n",
    "P[1:10] = [0.5, 0.45, 0.45, 0.4, 0.4, 0.4, 0.35, 0.35, 0.35, 0.35];\n",
    "#P = zeros(50) .+ 0.4; # FOR testing\n",
    "#P = P .* (1 + 0.0256)\n",
    "\n",
    "X(n) = P[n+1]\n",
    "S(N) = N > 0 ? prod(X.(collect(0:(N-1)))) : 1 - X(0)\n",
    "Z(N) = N > 0 ? (1-X(N))*prod(X.(collect(0:(N-1)))) : 1-X(0)\n",
    "T(N) = N + 1\n",
    "# Finally, the thing we're after. Average time to target\n",
    "TimeToTarget(N) = (sum( Z.(0:N-1) .* T.(0:N-1) ) + S(N)*T(N-1))/S(N)\n",
    "\n",
    "TimeToTargetProt(N, pro) = pro < N ? TimeToTargetProt(N-1)*10 : TimeToTarget(N)\n",
    "\n",
    "## What else would we like? Average XP?\n",
    "## Protection should be interesting, there is an infinite series of rapidly decreasing probability\n",
    "## So we can use perterbation theory and take only Nth order terms. Start with N=1."
   ]
  },
  {
   "cell_type": "code",
   "execution_count": 3,
   "id": "27e767b0-7bc1-41ab-b6ef-f075adb2da22",
   "metadata": {},
   "outputs": [
    {
     "data": {
      "text/plain": [
       "simulatedAlpha (generic function with 1 method)"
      ]
     },
     "execution_count": 3,
     "metadata": {},
     "output_type": "execute_result"
    }
   ],
   "source": [
    "## Simulated Values\n",
    "function enhance(level)\n",
    "    if rand() < P[level+1]\n",
    "        return level + 1\n",
    "    end\n",
    "    return 0\n",
    "end\n",
    "\n",
    "function simulatedEnhance(target; trials=10_000)\n",
    "    dataset = []\n",
    "    for t in collect(1:trials)\n",
    "        count = 0\n",
    "        level = 0\n",
    "        while level < target\n",
    "            count += 1\n",
    "            level = enhance(level)\n",
    "        end\n",
    "        push!(dataset, count)\n",
    "    end\n",
    "    return sum(dataset)/length(dataset)\n",
    "end\n",
    "\n",
    "function protected(level, select)\n",
    "    if level < select\n",
    "        return enhance(level)\n",
    "    end\n",
    "    if rand() < P[level+1]\n",
    "        return level + 1\n",
    "    end\n",
    "    return max(0,level - 1)\n",
    "end\n",
    "\n",
    "mean(x) = sum(x) / length(x)\n",
    "\n",
    "function simulatedProtected(target, select; trials=10_000, cost=60)\n",
    "    # Cost is ratio of protection cost over enhance cost\n",
    "    dataset = []\n",
    "    actionset = []\n",
    "    protectionset = []\n",
    "    for t in collect(1:trials)\n",
    "        count = 0\n",
    "        level = 0\n",
    "        actions = 0\n",
    "        protections = 0\n",
    "        while level < target\n",
    "            if level >= select\n",
    "                count += cost+1\n",
    "                protections += 1\n",
    "            else\n",
    "                count += 1\n",
    "            end\n",
    "            actions += 1\n",
    "            level = protected(level, select)\n",
    "        end\n",
    "        push!(dataset, count)\n",
    "        push!(actionset, actions)\n",
    "        push!(protectionset, protections)\n",
    "    end\n",
    "    return [mean(dataset), mean(actionset), mean(protectionset)]\n",
    "end\n",
    "\n",
    "function simulatedProtectedExp(select; trials=10_000, cost=60)\n",
    "    dataset = []\n",
    "    for t in collect(1:trials)\n",
    "        experience = 0\n",
    "        count = 0\n",
    "        level = 0\n",
    "        for t in collect(1:1000)\n",
    "            if level >= select\n",
    "                count += cost+1\n",
    "            else\n",
    "                count += 1\n",
    "            end\n",
    "            lastLevel = level\n",
    "            level = protected(level, select)\n",
    "            if level > lastLevel\n",
    "                experience += level\n",
    "            end\n",
    "        end\n",
    "        push!(dataset, experience/count)\n",
    "    end\n",
    "    return sum(dataset)/length(dataset)\n",
    "end\n",
    "\n",
    "function fastSim(target, select; trials=10_000)\n",
    "    dataset = []\n",
    "    if target <= select\n",
    "        return TimeToTarget(target)\n",
    "    end\n",
    "    for t in collect(1:trials)\n",
    "        count = TimeToTarget(select)\n",
    "        level = select\n",
    "        while level < target\n",
    "            level = protected(level, select)\n",
    "            if level < select - 1\n",
    "                # Reset and boost count\n",
    "                count += TimeToTarget(select) + 1\n",
    "                level = select\n",
    "            else\n",
    "                count += 1\n",
    "            end\n",
    "        end\n",
    "        push!(dataset, count)\n",
    "    end\n",
    "    return sum(dataset)/length(dataset)\n",
    "end\n",
    "\n",
    "function simulatedAlpha(target; trials=10_000)\n",
    "    dataset = []\n",
    "    for t in collect(1:trials)\n",
    "        resets = 0\n",
    "        level = 0\n",
    "        while level < target\n",
    "            if( level == 0 )\n",
    "                resets += 1\n",
    "            end\n",
    "            level = enhance(level)\n",
    "        end\n",
    "        push!(dataset, resets)\n",
    "    end\n",
    "    return sum(dataset)/length(dataset)\n",
    "end"
   ]
  },
  {
   "cell_type": "code",
   "execution_count": 5,
   "id": "605085e9-e012-40cb-bcfe-fd4955f9d8a8",
   "metadata": {},
   "outputs": [
    {
     "name": "stdout",
     "output_type": "stream",
     "text": [
      "simulatedProtected(10, 6) = [8494.3178, 4534.7498, 65.9928]\n"
     ]
    },
    {
     "data": {
      "text/plain": [
       "3-element Vector{Float64}:\n",
       " 8494.3178\n",
       " 4534.7498\n",
       "   65.9928"
      ]
     },
     "execution_count": 5,
     "metadata": {},
     "output_type": "execute_result"
    }
   ],
   "source": [
    "@show simulatedProtected(10,6)"
   ]
  }
 ],
 "metadata": {
  "kernelspec": {
   "display_name": "Julia 171 1.7.1",
   "language": "julia",
   "name": "julia-171-1.7"
  },
  "language_info": {
   "file_extension": ".jl",
   "mimetype": "application/julia",
   "name": "julia",
   "version": "1.7.3"
  }
 },
 "nbformat": 4,
 "nbformat_minor": 5
}
